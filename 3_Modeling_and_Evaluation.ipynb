{
  "nbformat": 4,
  "nbformat_minor": 0,
  "metadata": {
    "colab": {
      "name": "3. Modeling_and_Evaluation.ipynb",
      "provenance": [],
      "private_outputs": true,
      "collapsed_sections": []
    },
    "kernelspec": {
      "name": "python3",
      "display_name": "Python 3"
    },
    "accelerator": "GPU"
  },
  "cells": [
    {
      "cell_type": "markdown",
      "metadata": {
        "id": "FCoDc3rJkkfg",
        "colab_type": "text"
      },
      "source": [
        "# Modeling and Evaluation"
      ]
    },
    {
      "cell_type": "code",
      "metadata": {
        "id": "HWHXBaCXlKAz",
        "colab_type": "code",
        "colab": {}
      },
      "source": [
        "import pandas as pd\n",
        "import numpy as np\n",
        "from xgboost import XGBClassifier\n",
        "from google.colab import drive\n",
        "import plotly.graph_objects as go\n",
        "import plotly.express as px\n",
        "from plotly.subplots import make_subplots\n",
        "import warnings\n",
        "from sklearn.linear_model import LogisticRegressionCV, LogisticRegression\n",
        "from sklearn.tree import DecisionTreeClassifier\n",
        "from sklearn.model_selection import cross_val_score, GridSearchCV\n",
        "from sklearn.metrics import mean_absolute_error, accuracy_score, classification_report, roc_auc_score, roc_curve, confusion_matrix, roc_auc_score, auc\n",
        "from imblearn.pipeline import Pipeline\n",
        "import multiprocessing as mp\n",
        "from keras.optimizers import SGD\n",
        "from keras.models import Sequential\n",
        "from keras.layers import Dense\n",
        "from statsmodels.stats.proportion import proportion_confint\n",
        "from keras.wrappers.scikit_learn import KerasClassifier\n",
        "\n",
        "warnings.filterwarnings(\"ignore\")"
      ],
      "execution_count": null,
      "outputs": []
    },
    {
      "cell_type": "code",
      "metadata": {
        "id": "8H41oI45lhfi",
        "colab_type": "code",
        "colab": {}
      },
      "source": [
        "drive.mount('/content/drive')"
      ],
      "execution_count": null,
      "outputs": []
    },
    {
      "cell_type": "code",
      "metadata": {
        "id": "hdY7mZnjlkyy",
        "colab_type": "code",
        "colab": {}
      },
      "source": [
        "cd 'drive/My Drive'"
      ],
      "execution_count": null,
      "outputs": []
    },
    {
      "cell_type": "code",
      "metadata": {
        "id": "G5v3vn1llqFP",
        "colab_type": "code",
        "colab": {}
      },
      "source": [
        "X_train = np.load(\"data/avazu_ctr/train.npy\")\n",
        "y_train = np.load(\"data/avazu_ctr/train_labels.npy\")\n",
        "X_test = np.load(\"data/avazu_ctr/test.npy\")\n",
        "y_test = np.load(\"data/avazu_ctr/test_labels.npy\")"
      ],
      "execution_count": null,
      "outputs": []
    },
    {
      "cell_type": "code",
      "metadata": {
        "id": "FXKguzdifu2I",
        "colab_type": "code",
        "colab": {}
      },
      "source": [
        "print(X_test.shape)"
      ],
      "execution_count": null,
      "outputs": []
    },
    {
      "cell_type": "markdown",
      "metadata": {
        "id": "uRMP2Gk3zASr",
        "colab_type": "text"
      },
      "source": [
        "## 1. Logistic Regression"
      ]
    },
    {
      "cell_type": "markdown",
      "metadata": {
        "id": "XeUqjQHPKTxX",
        "colab_type": "text"
      },
      "source": [
        "We first create base logistic regression model to compare with our tuned one. For all the algorithms which we implemented, we have performed hyperparameter tuning using Grid Search CV"
      ]
    },
    {
      "cell_type": "code",
      "metadata": {
        "id": "6wjc7tvsenaI",
        "colab_type": "code",
        "colab": {}
      },
      "source": [
        "model = LogisticRegressionCV(cv=5)\n",
        "model.fit(X_train, y_train)\n",
        "yhat = model.predict(X_test)\n",
        "probs = model.predict_proba(X_test)"
      ],
      "execution_count": null,
      "outputs": []
    },
    {
      "cell_type": "markdown",
      "metadata": {
        "id": "qMRSW34bVaL_",
        "colab_type": "text"
      },
      "source": [
        "We first create a baseline Logistic Regression model with cross validation over 5 folds."
      ]
    },
    {
      "cell_type": "code",
      "metadata": {
        "id": "hlPUyW2qfNJT",
        "colab_type": "code",
        "colab": {}
      },
      "source": [
        "accuracy = accuracy_score(y_test, yhat)\n",
        "print(\"Model accuracy: {}\".format(accuracy))"
      ],
      "execution_count": null,
      "outputs": []
    },
    {
      "cell_type": "code",
      "metadata": {
        "id": "XdfiPhIqsOpW",
        "colab_type": "code",
        "colab": {}
      },
      "source": [
        "param_grid = {\n",
        "    'C':np.logspace(0, 4, 10),\n",
        "    'penalty': ['l1', 'l2']\n",
        "}\n",
        "model = LogisticRegression()\n",
        "model, yhat = optimize_hyperparameters(X_train, X_test, y_train, model, \n",
        "                                 param_grid, n_jobs=-1, cv=5, scoring_fit='roc_auc')\n",
        "\n",
        "probs = model.predict_proba(X_test)\n",
        "print(model.best_score_)\n",
        "print(model.best_params_)"
      ],
      "execution_count": null,
      "outputs": []
    },
    {
      "cell_type": "code",
      "metadata": {
        "id": "aOM4xbpHspNo",
        "colab_type": "code",
        "colab": {}
      },
      "source": [
        "accuracy = accuracy_score(y_test, yhat)\n",
        "print(\"Model accuracy: {}\".format(accuracy))"
      ],
      "execution_count": null,
      "outputs": []
    },
    {
      "cell_type": "markdown",
      "metadata": {
        "id": "Kg89AtnNVjfo",
        "colab_type": "text"
      },
      "source": [
        "Our model gave an accuracy of 81.39%. However, the accuracy is just not enough and we will not calculate the confidence interval for our accuracy predictions as well as for our predicted probabilites"
      ]
    },
    {
      "cell_type": "code",
      "metadata": {
        "id": "8dtGVibPfogb",
        "colab_type": "code",
        "colab": {}
      },
      "source": [
        "def prediction_interval(accuracy, z, num_samples):\n",
        "  interval = z * np.sqrt((accuracy * (1 - accuracy)) / num_samples)\n",
        "  lower = accuracy - interval\n",
        "  upper = accuracy + interval\n",
        "  return interval, lower, upper\n",
        "\n",
        "def regression_interval(actual_probs, pred_probs, z):\n",
        "\n",
        "  sum_errs = np.sum((actual_probs - pred_probs)**2)\n",
        "  stdev = np.sqrt(1/(len(actual_probs)-2) * sum_errs)\n",
        "  conf = z * stdev\n",
        "  return conf"
      ],
      "execution_count": null,
      "outputs": []
    },
    {
      "cell_type": "markdown",
      "metadata": {
        "id": "s1VCq-uiVzoO",
        "colab_type": "text"
      },
      "source": [
        "We have defined 2 functions above, 1 for calculating the prediction confidence interval for the accuracy score and another for calculating the interval if a probability estimate is given. For both the cases we have a 95% confidence interval being calculated with a Z score of 1.96 as a constant.\n"
      ]
    },
    {
      "cell_type": "code",
      "metadata": {
        "id": "Kv7dNLGwmVw9",
        "colab_type": "code",
        "colab": {}
      },
      "source": [
        "interval, lower, upper = prediction_interval(accuracy, 1.96, X_test.shape[0])\n",
        "print(\"interval: {:.4f}, lower: {:.4f}, upper: {:.4f}\".format(interval, lower, upper))"
      ],
      "execution_count": null,
      "outputs": []
    },
    {
      "cell_type": "markdown",
      "metadata": {
        "id": "YC-3TWDvXlv1",
        "colab_type": "text"
      },
      "source": [
        "Hence our prediction has a confidence of "
      ]
    },
    {
      "cell_type": "code",
      "metadata": {
        "id": "a4O96Be5pg5c",
        "colab_type": "code",
        "colab": {}
      },
      "source": [
        "conf = regression_interval(probs[:,1], yhat, 1.96)\n",
        "print(\"confidence: {:.4f}\".format(conf))"
      ],
      "execution_count": null,
      "outputs": []
    },
    {
      "cell_type": "code",
      "metadata": {
        "id": "gx3K7qSUvPT-",
        "colab_type": "code",
        "colab": {}
      },
      "source": [
        "print(classification_report(y_test, yhat))"
      ],
      "execution_count": null,
      "outputs": []
    },
    {
      "cell_type": "code",
      "metadata": {
        "id": "_SdQag2ExGJc",
        "colab_type": "code",
        "colab": {}
      },
      "source": [
        "conf_mat = confusion_matrix(y_test, yhat)\n",
        "print(conf_mat)"
      ],
      "execution_count": null,
      "outputs": []
    },
    {
      "cell_type": "code",
      "metadata": {
        "id": "uo42abepxXsB",
        "colab_type": "code",
        "colab": {}
      },
      "source": [
        "logit_roc_auc = roc_auc_score(y_test, yhat)\n",
        "logit_roc_auc"
      ],
      "execution_count": null,
      "outputs": []
    },
    {
      "cell_type": "code",
      "metadata": {
        "id": "SeBxoLuKxpoo",
        "colab_type": "code",
        "colab": {}
      },
      "source": [
        "fpr, tpr, thresholds = roc_curve(y_test, probs[:,1])"
      ],
      "execution_count": null,
      "outputs": []
    },
    {
      "cell_type": "code",
      "metadata": {
        "id": "vvFuiXlEzCzf",
        "colab_type": "code",
        "colab": {}
      },
      "source": [
        "def plot_auc_roc(fpr, tpr):\n",
        "  fig = px.area(\n",
        "      x=fpr, y=tpr,\n",
        "      title=f'ROC Curve (AUC={auc(fpr, tpr):.4f})',\n",
        "      labels=dict(x='False Positive Rate', y='True Positive Rate'),\n",
        "      width=700, height=500\n",
        "  )\n",
        "  fig.add_shape(\n",
        "      type='line', line=dict(dash='dash'),\n",
        "      x0=0, x1=1, y0=0, y1=1\n",
        "  )\n",
        "\n",
        "  fig.update_yaxes(scaleanchor=\"x\", scaleratio=1)\n",
        "  fig.update_xaxes(constrain='domain')\n",
        "  fig.show()"
      ],
      "execution_count": null,
      "outputs": []
    },
    {
      "cell_type": "code",
      "metadata": {
        "id": "9NaEcB_gQKjF",
        "colab_type": "code",
        "colab": {}
      },
      "source": [
        "plot_auc_roc(fpr, tpr)"
      ],
      "execution_count": null,
      "outputs": []
    },
    {
      "cell_type": "markdown",
      "metadata": {
        "id": "uDmy-85vzNqu",
        "colab_type": "text"
      },
      "source": [
        "## 2. XGBoost Classifier\n",
        "\n",
        "The choice of XGBoost was not random rather based on the following evidence. \n",
        "XGboost and GBM follows the principle of gradient boosting. They just differ internally as a model. Specifically, XGboost uses a more regularized model formalization to control over-fitting, which gives it better performance.\n",
        "We decided to use XGBoost so that we can curb over-fitting inherently and also exploit for faster convergence by using all the resources available to us"
      ]
    },
    {
      "cell_type": "code",
      "metadata": {
        "id": "WQRXq96GzxQy",
        "colab_type": "code",
        "colab": {}
      },
      "source": [
        "#Baseline model\n",
        "model = XGBClassifier()\n",
        "model.fit(X_train, y_train)\n",
        "y_pred = model.predict(X_test)\n",
        "accuracy = accuracy_score(y_test, y_pred)\n",
        "print(\"Model accuracy: {}\".format(accuracy))"
      ],
      "execution_count": null,
      "outputs": []
    },
    {
      "cell_type": "code",
      "metadata": {
        "id": "CweyF_X4z6dW",
        "colab_type": "code",
        "colab": {}
      },
      "source": [
        "def optimize_hyperparameters(X_train_data, X_test_data, y_train_data, \n",
        "                       model, param_grid, n_jobs, cv=10, scoring_fit='neg_mean_squared_error'):\n",
        "    gs = GridSearchCV(\n",
        "        estimator=model,\n",
        "        param_grid=param_grid, \n",
        "        cv=cv, \n",
        "        n_jobs=n_jobs, \n",
        "        scoring=scoring_fit,\n",
        "        verbose=2\n",
        "    )\n",
        "    \n",
        "    model = gs.fit(X_train_data, y_train_data)\n",
        "    preds = model.predict(X_test_data)\n",
        "    \n",
        "    return model, preds"
      ],
      "execution_count": null,
      "outputs": []
    },
    {
      "cell_type": "code",
      "metadata": {
        "id": "c9twK0Na3ksN",
        "colab_type": "code",
        "colab": {}
      },
      "source": [
        "param_grid = {\n",
        "    'max_depth': range (2, 10, 1),\n",
        "    'n_estimators': range(40,60,100),\n",
        "    'reg_alpha':[1e-5, 1e-2, 0.1, 1],\n",
        "    'gamma':[i/10.0 for i in range(0,5)]\n",
        "}\n",
        "model = XGBClassifier(max_depth=9, n_estimators=40, reg_alpha=0.1, gamma=0.3)\n",
        "model, preds = optimize_hyperparameters(X_train, X_test, y_train, model, \n",
        "                                 param_grid, n_jobs=-1, cv=5, scoring_fit='roc_auc')\n",
        "\n",
        "probs = model.predict_proba(X_test)\n",
        "print(model.best_score_)\n",
        "print(model.best_params_)"
      ],
      "execution_count": null,
      "outputs": []
    },
    {
      "cell_type": "code",
      "metadata": {
        "id": "TyL-GKL75806",
        "colab_type": "code",
        "colab": {}
      },
      "source": [
        "model = XGBClassifier(max_depth=9, n_estimators=40, reg_alpha=0.1, gamma=0.3)\n",
        "model.fit(X_train, y_train)\n",
        "y_pred = model.predict(X_test)\n",
        "probs = model.predict_proba(X_test)\n",
        "accuracy = accuracy_score(y_test, y_pred)\n",
        "print(\"Model accuracy: {}\".format(accuracy))"
      ],
      "execution_count": null,
      "outputs": []
    },
    {
      "cell_type": "code",
      "metadata": {
        "id": "6u3mBoYvM0sj",
        "colab_type": "code",
        "colab": {}
      },
      "source": [
        "interval, lower, upper = prediction_interval(accuracy, 1.96, X_test.shape[0])\n",
        "print(\"interval: {:.4f}, lower: {:.4f}, upper: {:.4f}\".format(interval, lower, upper))"
      ],
      "execution_count": null,
      "outputs": []
    },
    {
      "cell_type": "code",
      "metadata": {
        "id": "pHGN6WW9PEAM",
        "colab_type": "code",
        "colab": {}
      },
      "source": [
        "conf = regression_interval(probs[:,1], yhat, 1.96)\n",
        "print(\"confidence: {:.4f}\".format(conf))"
      ],
      "execution_count": null,
      "outputs": []
    },
    {
      "cell_type": "code",
      "metadata": {
        "id": "TCSABqXnPIiQ",
        "colab_type": "code",
        "colab": {}
      },
      "source": [
        "print(classification_report(y_test, yhat))"
      ],
      "execution_count": null,
      "outputs": []
    },
    {
      "cell_type": "code",
      "metadata": {
        "id": "SbtzMWg5PLar",
        "colab_type": "code",
        "colab": {}
      },
      "source": [
        "conf_mat = confusion_matrix(y_test, yhat)\n",
        "print(conf_mat)"
      ],
      "execution_count": null,
      "outputs": []
    },
    {
      "cell_type": "code",
      "metadata": {
        "id": "81MA3BTnPORX",
        "colab_type": "code",
        "colab": {}
      },
      "source": [
        "xgb_roc_auc = roc_auc_score(y_test, yhat)\n",
        "xgb_roc_auc"
      ],
      "execution_count": null,
      "outputs": []
    },
    {
      "cell_type": "code",
      "metadata": {
        "id": "wMZIPifZPtVD",
        "colab_type": "code",
        "colab": {}
      },
      "source": [
        "fpr, tpr, thresholds = roc_curve(y_test, probs[:,1])"
      ],
      "execution_count": null,
      "outputs": []
    },
    {
      "cell_type": "code",
      "metadata": {
        "id": "xTYkm-RMQBWT",
        "colab_type": "code",
        "colab": {}
      },
      "source": [
        "plot_auc_roc(fpr, tpr)"
      ],
      "execution_count": null,
      "outputs": []
    },
    {
      "cell_type": "markdown",
      "metadata": {
        "id": "T-5KTTPUQFqa",
        "colab_type": "text"
      },
      "source": [
        "### 3. Multi-Layer Perceptron\n"
      ]
    },
    {
      "cell_type": "code",
      "metadata": {
        "id": "K9xeXK6AQbWk",
        "colab_type": "code",
        "colab": {}
      },
      "source": [
        "model = Sequential()\n",
        "model.add(Dense(10, input_dim=15, activation='relu'))\n",
        "model.add(Dense(7, input_dim=10, activation='relu'))\n",
        "model.add(Dense(1, activation='sigmoid'))\n",
        "optimizer = SGD(learning_rate=0.15, momentum=0.9)\n",
        "model.compile(loss='binary_crossentropy', optimizer=optimizer, metrics=['accuracy','AUC'])\n",
        "history = model.fit(X_train, y_train, epochs=50, batch_size=32)"
      ],
      "execution_count": null,
      "outputs": []
    },
    {
      "cell_type": "code",
      "metadata": {
        "id": "bL4jIUsQYEeT",
        "colab_type": "code",
        "colab": {}
      },
      "source": [
        "# make probability predictions with the model\n",
        "probs = model.predict(X_test)\n",
        "\n",
        "# make class predictions with the model\n",
        "preds = model.predict_classes(X_test)"
      ],
      "execution_count": null,
      "outputs": []
    },
    {
      "cell_type": "code",
      "metadata": {
        "id": "AC-KOPvbYuc0",
        "colab_type": "code",
        "colab": {}
      },
      "source": [
        "accuracy = accuracy_score(y_test, preds)\n",
        "print(\"Model accuracy: {}\".format(accuracy))"
      ],
      "execution_count": null,
      "outputs": []
    },
    {
      "cell_type": "code",
      "metadata": {
        "id": "XZBymDIueKp5",
        "colab_type": "code",
        "colab": {}
      },
      "source": [
        "model = Sequential()\n",
        "model.add(Dense(10, input_dim=15, activation='tanh'))\n",
        "model.add(Dense(7, input_dim=10, activation='tanh'))\n",
        "model.add(Dense(1, activation='sigmoid'))\n",
        "optimizer = SGD(learning_rate=0.01, momentum=0.9)\n",
        "model.compile(loss='binary_crossentropy', optimizer=optimizer, metrics=['accuracy','AUC'])\n",
        "history = model.fit(X_train, y_train, epochs=100, batch_size=64)"
      ],
      "execution_count": null,
      "outputs": []
    },
    {
      "cell_type": "code",
      "metadata": {
        "id": "4Iy6tAVGlUKt",
        "colab_type": "code",
        "colab": {}
      },
      "source": [
        "# make probability predictions with the model\n",
        "probs = model.predict(X_test)\n",
        "\n",
        "# make class predictions with the model\n",
        "preds = model.predict_classes(X_test)"
      ],
      "execution_count": null,
      "outputs": []
    },
    {
      "cell_type": "code",
      "metadata": {
        "id": "aGV5OqXflWxi",
        "colab_type": "code",
        "colab": {}
      },
      "source": [
        "accuracy = accuracy_score(y_test, preds)\n",
        "print(\"Model accuracy: {}\".format(accuracy))"
      ],
      "execution_count": null,
      "outputs": []
    },
    {
      "cell_type": "code",
      "metadata": {
        "id": "ehjk1IjGR7tr",
        "colab_type": "code",
        "colab": {}
      },
      "source": [
        "interval, lower, upper = prediction_interval(accuracy, 1.96, X_test.shape[0])\n",
        "print(\"interval: {:.4f}, lower: {:.4f}, upper: {:.4f}\".format(interval, lower, upper))"
      ],
      "execution_count": null,
      "outputs": []
    },
    {
      "cell_type": "code",
      "metadata": {
        "id": "iqqk24WbYUOX",
        "colab_type": "code",
        "colab": {}
      },
      "source": [
        "print(classification_report(y_test, preds))"
      ],
      "execution_count": null,
      "outputs": []
    },
    {
      "cell_type": "code",
      "metadata": {
        "id": "WEZjEuM6ZBBN",
        "colab_type": "code",
        "colab": {}
      },
      "source": [
        "conf_mat = confusion_matrix(y_test, preds)\n",
        "print(conf_mat)"
      ],
      "execution_count": null,
      "outputs": []
    },
    {
      "cell_type": "code",
      "metadata": {
        "id": "BTBZh6GsZDOl",
        "colab_type": "code",
        "colab": {}
      },
      "source": [
        "mlp_roc_auc = roc_auc_score(y_test, preds)\n",
        "mlp_roc_auc"
      ],
      "execution_count": null,
      "outputs": []
    },
    {
      "cell_type": "code",
      "metadata": {
        "id": "AxZeA-KIrnbS",
        "colab_type": "code",
        "colab": {}
      },
      "source": [
        "fpr, tpr, thresholds = roc_curve(y_test, probs)"
      ],
      "execution_count": null,
      "outputs": []
    },
    {
      "cell_type": "code",
      "metadata": {
        "id": "pCnZJ2saZMF2",
        "colab_type": "code",
        "colab": {}
      },
      "source": [
        "plot_auc_roc(fpr, tpr)"
      ],
      "execution_count": null,
      "outputs": []
    },
    {
      "cell_type": "markdown",
      "metadata": {
        "id": "RXsMQ8TnbfNA",
        "colab_type": "text"
      },
      "source": [
        "|Model|Baseline|Tuned|95% CI|lower|upper|AUC| \n",
        "|-----|--------|--------|------|-----|-----|---|\n",
        "|Logistic|0.8140|0.8102|0.0054|0.8047|0.8156|0.6384|\n",
        "|XGBoost|0.8042|0.7962|0.0056|0.7906|0.8017|0.7113|\n",
        "|MLP|0.6994|0.7758|0.0058|0.7700|0.7816|0.6956|"
      ]
    },
    {
      "cell_type": "code",
      "metadata": {
        "id": "6XpLd6KPcSLJ",
        "colab_type": "code",
        "colab": {}
      },
      "source": [
        ""
      ],
      "execution_count": null,
      "outputs": []
    }
  ]
}